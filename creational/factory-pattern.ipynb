{
 "cells": [
  {
   "cell_type": "markdown",
   "metadata": {},
   "source": [
    "Pattern này cung cấp một trong những cách tốt nhất để khởi tạo một đối tượng. Trong Factory pattern, chúng ta tạo một đối tượng mà không phải để lộ logic khởi tạo cho client biết và tham chiếu đến đối tượng mới sử dụng một giao diện chung.\n",
    "# Ví dụ:\n",
    "\n",
    "Tạo một class trừu tượng tên là **Shape** và tạo các class con kế thừa **Shape**. Sau đó ta sẽ định nghĩa một **ShapeFactory** để lấy **Shape** object. Chúng ta sẽ truyền kiểu shape (CIRCLE/RETANGLE/SQUARE) vào **ShapeFactory** để lấy được object mong muốn.\n",
    "![](assets/images/factory_pattern_uml_diagram.jpg)\n",
    "\n",
    "# Bước 1:\n",
    "Tạo class **Shape**"
   ]
  },
  {
   "cell_type": "code",
   "execution_count": 5,
   "metadata": {},
   "outputs": [],
   "source": [
    "from abc import ABCMeta, abstractmethod\n",
    "\n",
    "class Shape(object):\n",
    "    __metaclass__=ABCMeta\n",
    "    \n",
    "    @abstractmethod\n",
    "    def draw(self):\n",
    "        pass"
   ]
  },
  {
   "cell_type": "markdown",
   "metadata": {},
   "source": [
    "# Bước 2:\n",
    "Tạo các lớp con kế thừa **Shape**\n",
    "Bao gồm **Rectangle** và **Square** và **Circle**\n"
   ]
  },
  {
   "cell_type": "code",
   "execution_count": 6,
   "metadata": {},
   "outputs": [],
   "source": [
    "class Rectangle(Shape):\n",
    "    def draw(self):\n",
    "        print(\"This is Rectangle\")\n",
    "\n",
    "class Square(Shape):\n",
    "    def draw(self):\n",
    "        print(\"This is Square\")\n",
    "        \n",
    "class Circle(Shape):\n",
    "    def draw(self):\n",
    "        print(\"This is Circle\")        "
   ]
  },
  {
   "cell_type": "markdown",
   "metadata": {},
   "source": [
    "# Bước 3:\n",
    "Tạo 1 Factory để sinh ra object từ những lớp con trên dựa vào thông tin truyền vào, **ShapeFactory**:"
   ]
  },
  {
   "cell_type": "code",
   "execution_count": 7,
   "metadata": {},
   "outputs": [],
   "source": [
    "class ShapeFactory(object):\n",
    "    def get_shape(self, shape_type=\"Circle\"):\n",
    "        shapes = dict(Rectangle=Rectangle, Square=Square, Circle=Circle)\n",
    "        return shapes[shape_type]()"
   ]
  },
  {
   "cell_type": "markdown",
   "metadata": {},
   "source": [
    "# Bước 4:\n",
    "Sử dụng Factory để lấy object của lớp con bằng cách truyền kiểu shape vào `shape_type`"
   ]
  },
  {
   "cell_type": "code",
   "execution_count": 8,
   "metadata": {},
   "outputs": [
    {
     "name": "stdout",
     "output_type": "stream",
     "text": [
      "This is Rectangle\n",
      "This is Square\n",
      "This is Circle\n"
     ]
    }
   ],
   "source": [
    "if __name__ == '__main__':\n",
    "    shape_factory = ShapeFactory()\n",
    "    \n",
    "    shape1 = shape_factory.get_shape('Rectangle')\n",
    "    shape1.draw()\n",
    "    \n",
    "    shape2 = shape_factory.get_shape('Square')\n",
    "    shape2.draw()\n",
    "    \n",
    "    shape3 = shape_factory.get_shape('Circle')\n",
    "    shape3.draw()\n",
    "    "
   ]
  }
 ],
 "metadata": {
  "kernelspec": {
   "display_name": "Python 3",
   "language": "python",
   "name": "python3"
  },
  "language_info": {
   "codemirror_mode": {
    "name": "ipython",
    "version": 3
   },
   "file_extension": ".py",
   "mimetype": "text/x-python",
   "name": "python",
   "nbconvert_exporter": "python",
   "pygments_lexer": "ipython3",
   "version": "3.6.7"
  }
 },
 "nbformat": 4,
 "nbformat_minor": 2
}
