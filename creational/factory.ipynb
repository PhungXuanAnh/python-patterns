{
 "cells": [
  {
   "cell_type": "markdown",
   "metadata": {},
   "source": [
    "# Mục đích\n",
    "\n",
    "Pattern này cung cấp một trong những cách tốt nhất để khởi tạo một đối tượng. Trong Factory pattern, chúng ta tạo một đối tượng mà không phải để lộ logic khởi tạo cho client biết và tham chiếu đến đối tượng mới sử dụng một giao diện chung.\n",
    "\n",
    "# Định nghĩa\n",
    "\n",
    "- Định nghĩa một giao diện (interface) để khởi tạo đối tượng, nhưng thay vì việc **factory** sẽ chịu trách nhiệm cho việc khởi tạo, công việc này sẽ được hoãn lại và giao cho các lớp con quyết định là lớp nào sẽ được khởi tạo\n",
    "\n",
    "![](assets/images/factory_pattern_uml_diagram-1.png)\n",
    "\n",
    "Trong hình trên chúng ta có:\n",
    "\n",
    "- lớp trừu tượng **Creator** chứa phương thức **factoryMethod()** chịu trách nhiệm tạo đối tượng theo 1 kiểu nhất định.\n",
    "- lớp con **ConcreteCreator** kế thừa từ **Creator**, sẽ thực thi phương thức **factoryMethod()**, phương thức này có thể thay đối đối tượng được khởi tạo lúc run-time\n",
    "- lớp **ConcreateProduct** kế thừa từ lớp **Product**\n",
    "- **ConcreateCreator** sẽ tạo đối tượng của class **ConcreateProduct**\n",
    "\n",
    "Tóm lại, **factoryMethod()** của lớp trừu tượng/abstract **Creator** và lớp con **ConcreateCreator**  quyết định lớp con nào của **Product** sẽ được khởi tạo\n"
   ]
  },
  {
   "cell_type": "markdown",
   "metadata": {},
   "source": [
    "# Ví dụ 1\n",
    "\n",
    "Tạo một class trừu tượng tên là **Shape** và tạo các class con kế thừa **Shape**. Sau đó ta sẽ định nghĩa một **ShapeFactory** để lấy **Shape** object. Chúng ta sẽ truyền kiểu shape (CIRCLE/RETANGLE/SQUARE) vào **ShapeFactory** để lấy được object mong muốn.\n",
    "![](assets/images/factory_pattern_uml_diagram-2.jpg)\n",
    "\n",
    "## Bước 1:\n",
    "Tạo class **Shape**"
   ]
  },
  {
   "cell_type": "code",
   "execution_count": 5,
   "metadata": {},
   "outputs": [],
   "source": [
    "from abc import ABCMeta, abstractmethod\n",
    "\n",
    "class Shape(object):\n",
    "    __metaclass__=ABCMeta\n",
    "    \n",
    "    @abstractmethod\n",
    "    def draw(self):\n",
    "        pass"
   ]
  },
  {
   "cell_type": "markdown",
   "metadata": {},
   "source": [
    "## Bước 2:\n",
    "Tạo các lớp con kế thừa **Shape**\n",
    "Bao gồm **Rectangle** và **Square** và **Circle**\n"
   ]
  },
  {
   "cell_type": "code",
   "execution_count": 6,
   "metadata": {},
   "outputs": [],
   "source": [
    "class Rectangle(Shape):\n",
    "    def draw(self):\n",
    "        print(\"This is Rectangle\")\n",
    "\n",
    "class Square(Shape):\n",
    "    def draw(self):\n",
    "        print(\"This is Square\")\n",
    "        \n",
    "class Circle(Shape):\n",
    "    def draw(self):\n",
    "        print(\"This is Circle\")        "
   ]
  },
  {
   "cell_type": "markdown",
   "metadata": {},
   "source": [
    "## Bước 3:\n",
    "Tạo 1 Factory để sinh ra object từ những lớp con trên dựa vào thông tin truyền vào, **ShapeFactory**:"
   ]
  },
  {
   "cell_type": "code",
   "execution_count": 7,
   "metadata": {},
   "outputs": [],
   "source": [
    "class ShapeFactory(object):\n",
    "    def get_shape(self, shape_type=\"Circle\"):\n",
    "        shapes = dict(Rectangle=Rectangle, Square=Square, Circle=Circle)\n",
    "        return shapes[shape_type]()"
   ]
  },
  {
   "cell_type": "markdown",
   "metadata": {},
   "source": [
    "## Bước 4:\n",
    "Sử dụng Factory để lấy object của lớp con bằng cách truyền kiểu shape vào `shape_type`"
   ]
  },
  {
   "cell_type": "code",
   "execution_count": 8,
   "metadata": {},
   "outputs": [
    {
     "name": "stdout",
     "output_type": "stream",
     "text": [
      "This is Rectangle\n",
      "This is Square\n",
      "This is Circle\n"
     ]
    }
   ],
   "source": [
    "if __name__ == '__main__':\n",
    "    shape_factory = ShapeFactory()\n",
    "    \n",
    "    shape1 = shape_factory.get_shape('Rectangle')\n",
    "    shape1.draw()\n",
    "    \n",
    "    shape2 = shape_factory.get_shape('Square')\n",
    "    shape2.draw()\n",
    "    \n",
    "    shape3 = shape_factory.get_shape('Circle')\n",
    "    shape3.draw()\n",
    "    "
   ]
  },
  {
   "cell_type": "markdown",
   "metadata": {},
   "source": [
    "# Ví dụ 2"
   ]
  }
 ],
 "metadata": {
  "kernelspec": {
   "display_name": "Python 3",
   "language": "python",
   "name": "python3"
  },
  "language_info": {
   "codemirror_mode": {
    "name": "ipython",
    "version": 3
   },
   "file_extension": ".py",
   "mimetype": "text/x-python",
   "name": "python",
   "nbconvert_exporter": "python",
   "pygments_lexer": "ipython3",
   "version": "3.6.7"
  }
 },
 "nbformat": 4,
 "nbformat_minor": 2
}
