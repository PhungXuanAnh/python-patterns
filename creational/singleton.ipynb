{
 "cells": [
  {
   "cell_type": "markdown",
   "metadata": {},
   "source": [
    "# Mục đích\n",
    "\n",
    "- Đảm bảo chắc chắn là class chỉ có 1 đối tượng (instance) duy nhất, và cung cấp một điểm truy cập global đến đối tượng đó\n",
    "\n",
    "# Sử dụng\n",
    "\n",
    "- Khi mà app chỉ cần duy nhất một đối tượng.\n",
    "- Yêu cầu:\n",
    "    - Được khởi tạo lười (lazy initialization): phương pháp trì hoãn việc khởi tạo (hoặc nạp) dữ liệu cho đến khi chúng thực sự cần đến.\n",
    "    - Có thể truy cập global\n",
    "    \n",
    "# Implement\n",
    "\n",
    "## Cách 1: [tham khảo](https://sourcemaking.com/design_patterns/singleton/python/1), [Singletons and metaclasses](https://learning.oreilly.com/library/view/learning-python-design/9781785888038/ch02s05.html)\n",
    "\n",
    "Trước tiên phải hiểu `metaclass`, đó là class của class, nghĩa là class sẽ là 1 thực thể của `metaclass`\n",
    "\n",
    "`metaclass` cho phép ta tạo ra kiểu class của riêng mình, từ 1 class đã định nghĩa trước.\n",
    "\n",
    "Chi tiết đây này, trong Python mọi thứ đều là object, ví dụ nếu `a=5` thì `type(a)` trả về `<type 'int'>`. Nghĩa là a kiểu int. Tuy nhiên `type(int)` sẽ trả về `<type 'type'>`. Nó gợi ý về sự hiện diện của `metaclass`, vì int là một lớp kiểu `type`\n",
    "\n",
    "Định nghĩa của 1 class được quyết định bởi `metaclass`, vì vậy khi tạo 1 class, ví dụ `class A`, Python tạo nó bằng cách: `A = type(name, base, dict)`, trong đó:\n",
    "- name: tên của class\n",
    "- base: là base class\n",
    "- dict: là biến các thuộc tính \n",
    "\n",
    "Bây giờ, nếu một class có một `metaclass` được định nghĩa trước, ví dụ đặt tên là `MetaKls`, lúc này Python sẽ tạo class `A =  MetaKls(name, bases, dict)`\n",
    "\n",
    "Xem ví dụ sau về `metaclass`"
   ]
  },
  {
   "cell_type": "code",
   "execution_count": 56,
   "metadata": {},
   "outputs": [
    {
     "name": "stdout",
     "output_type": "stream",
     "text": [
      "***** Hello, here is My int *****\n",
      "Now, do whatever you want with these objects...\n",
      "This is MyInt object\n"
     ]
    }
   ],
   "source": [
    "class MyInt(type):\n",
    "    def __call__(cls, *args, **kwargs):\n",
    "        print(\"***** Hello, here is My int *****\")\n",
    "        print(\"Now, do whatever you want with these objects...\")\n",
    "        return type.__call__(cls, *args, **kwargs)\n",
    "    \n",
    "class int(metaclass=MyInt):\n",
    "    def __init__(self, x, y):\n",
    "        self.x = x\n",
    "        self.y = y\n",
    "        \n",
    "    def __str__(self):\n",
    "        return \"This is MyInt object\"\n",
    "        \n",
    "i = int(1,2)\n",
    "print(i)"
   ]
  },
  {
   "cell_type": "markdown",
   "metadata": {},
   "source": [
    "Method `__call__` được gọi khi một đội tượng được tạo từ một class đã tồn tại. Trong đoạn code trên, khi chúng ta tạo 1 thực thể của class int thì method `__call__` của `MetaKls` được gọi, chứng tỏ `metaclass` điểu khiển quá trình khởi tạo thực thể, điều này quá toẹt vời, hế hế...\n",
    "\n",
    "Chúng ta có thê sử dụng tính chất trên để tạo ra `Singleton` pattern\n",
    "\n",
    "**Chú ý:** để điều khiển quá trình khởi động của một class, `metaclass` sẽ ghi đè phương thức `__new__` và `__init__`\n",
    "\n",
    "Ta tạo một `metaclass` Singleton:"
   ]
  },
  {
   "cell_type": "code",
   "execution_count": 57,
   "metadata": {},
   "outputs": [],
   "source": [
    "class SingletonMetaClass(type):\n",
    "    \n",
    "    def __init__(cls, name, bases, attrs, **kwargs):\n",
    "        super().__init__(name, bases, attrs)\n",
    "        cls.__instance = None\n",
    "        # print(\"__init__ of SingletonMetaClass\")\n",
    "        \n",
    "    def __call__(cls, *args, **kwargs):\n",
    "        # print(\"__call__ of SingletonMetaClass\")\n",
    "        if cls.__instance is None:\n",
    "            cls.__instance = super().__call__(*args, **kwargs)\n",
    "        return cls.__instance"
   ]
  },
  {
   "cell_type": "markdown",
   "metadata": {},
   "source": [
    "Bây giờ tạo 1 Singleton class từ thực thể trên"
   ]
  },
  {
   "cell_type": "code",
   "execution_count": 58,
   "metadata": {},
   "outputs": [],
   "source": [
    "class Singleton1(metaclass=SingletonMetaClass):\n",
    "    def __init__(self):\n",
    "        #print(\"__init__ of Singleton1\")\n",
    "        pass"
   ]
  },
  {
   "cell_type": "markdown",
   "metadata": {},
   "source": [
    "Bây giờ tạo thực thể từ class trên xem nó có là 1 không nhá"
   ]
  },
  {
   "cell_type": "code",
   "execution_count": 59,
   "metadata": {},
   "outputs": [
    {
     "name": "stdout",
     "output_type": "stream",
     "text": [
      "<__main__.Singleton1 object at 0x7f55bc291e80>\n",
      "<__main__.Singleton1 object at 0x7f55bc291e80>\n"
     ]
    }
   ],
   "source": [
    "m1 = Singleton1()\n",
    "print(m1)\n",
    "\n",
    "m2 = Singleton1()\n",
    "print(m2)\n"
   ]
  },
  {
   "cell_type": "markdown",
   "metadata": {},
   "source": [
    "Tèn tén, kết quả in ra và kiểm tra là giống nhau, vậy nó đảm bảo tính chất là luôn luôn chỉ có duy nhất 1 thực thể của class được tạo ra rồi nhá\n",
    "\n",
    "Còn `lazy initialization` thì sao nhỉ, trong Python có thể dùng `@property` theo link sau:\n",
    "\n",
    "[how-can-i-delay-the-init-call-until-an-attribute-is-accessed](https://stackoverflow.com/questions/45194553/how-can-i-delay-the-init-call-until-an-attribute-is-accessed)\n",
    "\n",
    "[python-class-member-lazy-initialization](https://stackoverflow.com/questions/15226721/python-class-member-lazy-initialization)\n",
    "\n",
    "[lazy-properties](https://stevenloria.com/lazy-properties/)\n",
    "\n",
    "Ví dụ bên dưới, thuộc tính `_foo` chỉ được khởi tạo khi gọi property `foo`, nếu không nó vẫn là `None`"
   ]
  },
  {
   "cell_type": "code",
   "execution_count": 60,
   "metadata": {},
   "outputs": [
    {
     "name": "stdout",
     "output_type": "stream",
     "text": [
      "__init__ of Singleton1\n",
      "None\n",
      "lazy initialization\n",
      "[1, 2, 3]\n",
      "[1, 2, 3]\n"
     ]
    }
   ],
   "source": [
    "class Singleton1(metaclass=SingletonMetaClass):\n",
    "    def __init__(self):\n",
    "        print(\"__init__ of Singleton1\")\n",
    "        self._foo = None\n",
    "\n",
    "    @property\n",
    "    def foo(self):\n",
    "        if not self._foo:\n",
    "            print(\"lazy initialization\")\n",
    "            self._foo =  [1,2,3]\n",
    "        return self._foo\n",
    "    \n",
    "ms1 = Singleton1()\n",
    "print(ms1._foo)\n",
    "print(ms1.foo)\n",
    "\n",
    "ms2 = Singleton1()\n",
    "print(ms2._foo)"
   ]
  },
  {
   "cell_type": "markdown",
   "metadata": {},
   "source": [
    "Với multi thread thì singleton trên còn đúng không nhỉ, test nhá, trước hết viết 1 hàm tạo đối tượng Singleton1 để chạy trong thread"
   ]
  },
  {
   "cell_type": "code",
   "execution_count": 61,
   "metadata": {},
   "outputs": [],
   "source": [
    "def create_instance1(thread_name):\n",
    "    s = Singleton1()\n",
    "    print(\"{}: {}\\n\".format(thread_name, s))"
   ]
  },
  {
   "cell_type": "markdown",
   "metadata": {},
   "source": [
    "Bây giờ, tạo thread xem thế nào"
   ]
  },
  {
   "cell_type": "code",
   "execution_count": 62,
   "metadata": {},
   "outputs": [
    {
     "name": "stdout",
     "output_type": "stream",
     "text": [
      "thread-1: <__main__.Singleton1 object at 0x7f55bc227e80>\n",
      "\n",
      "thread-2: <__main__.Singleton1 object at 0x7f55bc227e80>\n",
      "\n",
      "thread-3: <__main__.Singleton1 object at 0x7f55bc227e80>\n",
      "\n",
      "thread-4: <__main__.Singleton1 object at 0x7f55bc227e80>\n",
      "\n"
     ]
    }
   ],
   "source": [
    "import threading\n",
    "threading.Thread(target=create_instance1, args=('thread-1',)).start()\n",
    "threading.Thread(target=create_instance1, args=('thread-2',)).start()\n",
    "threading.Thread(target=create_instance1, args=('thread-3',)).start()\n",
    "threading.Thread(target=create_instance1, args=('thread-4',)).start()"
   ]
  },
  {
   "cell_type": "markdown",
   "metadata": {},
   "source": [
    "Toẹt vời, với cách này, ta có thể sử dụng cho cả multi thread :D"
   ]
  },
  {
   "cell_type": "markdown",
   "metadata": {},
   "source": [
    "## Cách 2: [tham khảo](https://www.tutorialspoint.com/python_design_patterns/python_design_patterns_singleton.htm)\n",
    "\n",
    "Hoạt động của cách này:\n",
    "- dùng 1 biến private để lưu thực thể của class đó, \n",
    "- dùng 1 static method tạo thực thể, xong lưu vào biến pravite\n",
    "- thực thể chỉ có thể tạo bằng static method, hoặc tạo 1 lần duy nhất bằng cách gọi tên class, tạo lần 2 bằng tên class sẽ báo lỗi\n"
   ]
  },
  {
   "cell_type": "code",
   "execution_count": 63,
   "metadata": {},
   "outputs": [],
   "source": [
    "class Singleton2:\n",
    "    __instance = None\n",
    "    \n",
    "    @staticmethod\n",
    "    def get_instance():\n",
    "        if Singleton2.__instance is None:\n",
    "            Singleton2()\n",
    "        return Singleton2.__instance\n",
    "    \n",
    "    def __init__(self):\n",
    "        if Singleton2.__instance is not None:\n",
    "            raise Exception(\"This class is singleton!\")\n",
    "        else:\n",
    "            Singleton2.__instance = self"
   ]
  },
  {
   "cell_type": "markdown",
   "metadata": {},
   "source": [
    "Bây giờ, tạo thực thể của class trên để test nhá :D"
   ]
  },
  {
   "cell_type": "code",
   "execution_count": 64,
   "metadata": {},
   "outputs": [
    {
     "name": "stdout",
     "output_type": "stream",
     "text": [
      "<__main__.Singleton2 object at 0x7f55bc227550>\n",
      "<__main__.Singleton2 object at 0x7f55bc227550>\n",
      "<__main__.Singleton2 object at 0x7f55bc227550>\n"
     ]
    }
   ],
   "source": [
    "s = Singleton2()\n",
    "print(s)\n",
    "s = Singleton2.get_instance()\n",
    "print(s)\n",
    "s = Singleton2.get_instance()\n",
    "print(s)"
   ]
  },
  {
   "cell_type": "markdown",
   "metadata": {},
   "source": [
    "Tèn tén, giống nhau rồi nhá, bây giờ tạo một thực thể mới từ tên class không qua static method xem thế nào nhá"
   ]
  },
  {
   "cell_type": "code",
   "execution_count": 65,
   "metadata": {},
   "outputs": [
    {
     "ename": "Exception",
     "evalue": "This class is singleton!",
     "output_type": "error",
     "traceback": [
      "\u001b[0;31m---------------------------------------------------------------------------\u001b[0m",
      "\u001b[0;31mException\u001b[0m                                 Traceback (most recent call last)",
      "\u001b[0;32m<ipython-input-65-e31d61de6e5b>\u001b[0m in \u001b[0;36m<module>\u001b[0;34m\u001b[0m\n\u001b[0;32m----> 1\u001b[0;31m \u001b[0ms\u001b[0m \u001b[0;34m=\u001b[0m \u001b[0mSingleton2\u001b[0m\u001b[0;34m(\u001b[0m\u001b[0;34m)\u001b[0m\u001b[0;34m\u001b[0m\u001b[0;34m\u001b[0m\u001b[0m\n\u001b[0m",
      "\u001b[0;32m<ipython-input-63-b5705b0416c3>\u001b[0m in \u001b[0;36m__init__\u001b[0;34m(self)\u001b[0m\n\u001b[1;32m     10\u001b[0m     \u001b[0;32mdef\u001b[0m \u001b[0m__init__\u001b[0m\u001b[0;34m(\u001b[0m\u001b[0mself\u001b[0m\u001b[0;34m)\u001b[0m\u001b[0;34m:\u001b[0m\u001b[0;34m\u001b[0m\u001b[0;34m\u001b[0m\u001b[0m\n\u001b[1;32m     11\u001b[0m         \u001b[0;32mif\u001b[0m \u001b[0mSingleton2\u001b[0m\u001b[0;34m.\u001b[0m\u001b[0m__instance\u001b[0m \u001b[0;32mis\u001b[0m \u001b[0;32mnot\u001b[0m \u001b[0;32mNone\u001b[0m\u001b[0;34m:\u001b[0m\u001b[0;34m\u001b[0m\u001b[0;34m\u001b[0m\u001b[0m\n\u001b[0;32m---> 12\u001b[0;31m             \u001b[0;32mraise\u001b[0m \u001b[0mException\u001b[0m\u001b[0;34m(\u001b[0m\u001b[0;34m\"This class is singleton!\"\u001b[0m\u001b[0;34m)\u001b[0m\u001b[0;34m\u001b[0m\u001b[0;34m\u001b[0m\u001b[0m\n\u001b[0m\u001b[1;32m     13\u001b[0m         \u001b[0;32melse\u001b[0m\u001b[0;34m:\u001b[0m\u001b[0;34m\u001b[0m\u001b[0;34m\u001b[0m\u001b[0m\n\u001b[1;32m     14\u001b[0m             \u001b[0mSingleton2\u001b[0m\u001b[0;34m.\u001b[0m\u001b[0m__instance\u001b[0m \u001b[0;34m=\u001b[0m \u001b[0mself\u001b[0m\u001b[0;34m\u001b[0m\u001b[0;34m\u001b[0m\u001b[0m\n",
      "\u001b[0;31mException\u001b[0m: This class is singleton!"
     ]
    }
   ],
   "source": [
    "s = Singleton2()"
   ]
  },
  {
   "cell_type": "markdown",
   "metadata": {},
   "source": [
    "Há há, lỗi rồi...vậy là đạt yêu cầu\n",
    "\n",
    "Tham khảo phần **Lazy initialization** ở cách 1\n",
    "\n",
    "Tét với multi thread nhá:"
   ]
  },
  {
   "cell_type": "code",
   "execution_count": null,
   "metadata": {},
   "outputs": [],
   "source": [
    "def create_instance2(thread_name):\n",
    "    s = Singleton2.get_instance()\n",
    "    print(\"{}: {}\\n\".format(thread_name, s))\n",
    "    \n",
    "threading.Thread(target=create_instance2, args=('thread-1',)).start()\n",
    "threading.Thread(target=create_instance2, args=('thread-2',)).start()\n",
    "threading.Thread(target=create_instance2, args=('thread-3',)).start()\n",
    "threading.Thread(target=create_instance2, args=('thread-4',)).start()"
   ]
  },
  {
   "cell_type": "markdown",
   "metadata": {},
   "source": [
    "Ngon, cũng chạy được với multi thread. :D\n",
    "\n",
    "## Cách 3: [tham khảo branch forked](https://github.com/PhungXuanAnh/python-patterns/blob/forked/patterns/creational/borg.py)\n",
    "\n",
    "Cách này sử dụng một tính chất của Python, đó là các thuộc tính của 1 thực thể thì được lưu trong 1 dictionary tên là `__dict__`. Vậy là bây giờ đơn giản là làm cho tất cả các thực thể có cùng `__dict__`, tức là cùng thuộc tính thì sẽ đáp ứng yêu cầu có duy nhất 1 thực thể được tạo ra, phải không nhể \n",
    "\n",
    "Trong cách này:\n",
    "- Biến `__shared_state` sẽ dùng để lưu thuộc tính share giữa các thực thể\n",
    "- Khi tạo thực thể mới thì gán `__shared_state` cho `__dict__`\n",
    "\n",
    "\n",
    "# [Kịch bản thực thực tế 1](https://learning.oreilly.com/library/view/learning-python-design/9781785888038/ch02s06.html)\n",
    "\n",
    "Ví dụ với 1 web app có nhiều hoạt động đọc ghi database, app này được chia thành nhiều service thực hiện các hoạt động trên database. Lúc này nguồn tài nguyên chia sẻ giữa các service chính là database. Vì vậy để app hoạt động tốt, những điểm sau cần được quan tâm:\n",
    "\n",
    "- Tính nhất quán trong các hoạt động với database - một hành động không được xung đột với các hành động khác\n",
    "- Sử dụng bộ nhớ và cpu phải được tối ưu cho việc sử lý nhiều hành động trên database\n",
    "\n",
    "Code bên dưới sẽ thực hiện ví dụ này:"
   ]
  },
  {
   "cell_type": "code",
   "execution_count": 66,
   "metadata": {},
   "outputs": [
    {
     "name": "stdout",
     "output_type": "stream",
     "text": [
      "Database Objects DB1 <sqlite3.Cursor object at 0x7f55bc2327a0>\n",
      "Database Objects DB2 <sqlite3.Cursor object at 0x7f55bc2327a0>\n"
     ]
    }
   ],
   "source": [
    "import sqlite3\n",
    "class MetaSingleton(type):\n",
    "    _instances = {}\n",
    "    def __call__(cls, *args, **kwargs):\n",
    "        if cls not in cls._instances:\n",
    "            cls._instances[cls] = super(MetaSingleton, \\\n",
    "                cls).__call__(*args, **kwargs)\n",
    "        return cls._instances[cls]\n",
    "\n",
    "class Database(metaclass=MetaSingleton):\n",
    "  connection = None\n",
    "  def connect(self):\n",
    "    if self.connection is None:\n",
    "        self.connection = sqlite3.connect(\"db.sqlite3\")\n",
    "        self.cursorobj = self.connection.cursor()\n",
    "    return self.cursorobj\n",
    "\n",
    "db1 = Database().connect()\n",
    "db2 = Database().connect()\n",
    "\n",
    "print (\"Database Objects DB1\", db1)\n",
    "print (\"Database Objects DB2\", db2)"
   ]
  },
  {
   "cell_type": "markdown",
   "metadata": {},
   "source": [
    "Trong đoạn code trên, những điểm sau được đề cập:\n",
    "\n",
    "- Tạo metaclass tên là MetaSingleton, phương thức __call__ được dùng để tạo Singleton\n",
    "- Class Database được mô tả bởi MetaSingleton, vì thế nó sẽ chỉ tạo 1 đối tượng\n",
    "- Khi web app muốn thực hiện các hành động với DB, nó khởi tạo đối tượng của class Database nhiều lần, nhưng chỉ 1 đối tượng duy nhất được tạo, lúc này các cuộc gọi đến DB là đồng bộ. Hơn nữa, nó cũng sử dụng ít tài nguyền hệ thống hơn\n",
    "    \n",
    "**Chú ý**: với tình huống có nhiều web app, nhưng chỉ có 1 DB, lúc này Singleton không còn phù hợp nữa, vì mỗi web app sẽ tạo cho nó 1 đối tượng Singleton, dẫn đến các hoạt động với DB trở thành bất đồng bộ và sử dụng nhiều tài nguyên hơn. Trong những trường hợp như vậy thì cách tốt hơn là sử dụng `connection pool`\n",
    "\n",
    "\n",
    "# [Kịch bản thực thực tế 2](https://learning.oreilly.com/library/view/learning-python-design/9781785888038/ch02s07.html)\n",
    "\n",
    "Một kịch bản khác, khi chúng ta thực hiện 1 dịch vụ kiểm tra xem máy chủ có làm việc đúng hay không (server health check) ví dụ như Nagios. Tạo 1 class Singleton tên là HealthCheck. Dịch vụ này sẽ kiểm tra 1 danh sách các server bằng `health check` tương ứng của các server đó. Nếu 1 server bị gỡ bỏ thì dịch vụ này phải biết và gỡ bỏ nó khỏi cấu hình server.\n",
    "\n",
    "Trong đoạn code sau, `hc1` và `hc2` là đối tượng của một class Singleton\n",
    "\n",
    "Server được thêm vào bằng phương thức `addServer()`. Trong lần chạy đầu tiên, dịch vụ sẽ kiểm tra với danh sách các server được thêm vào này. Sau đó phương thức `changeServer()` sẽ  gỡ bỏ server cuối cùng và thêm vào 1 server khác. Trong lần chạy thứ 2, dịch vụ sẽ kiểm tra với danh sách servers mới này."
   ]
  },
  {
   "cell_type": "code",
   "execution_count": 67,
   "metadata": {},
   "outputs": [
    {
     "name": "stdout",
     "output_type": "stream",
     "text": [
      "Schedule health check for servers (1)..\n",
      "Checking  Server 1\n",
      "Checking  Server 2\n",
      "Checking  Server 3\n",
      "Checking  Server 4\n",
      "Schedule health check for servers (2)..\n",
      "Checking  Server 1\n",
      "Checking  Server 2\n",
      "Checking  Server 3\n",
      "Checking  Server 5\n"
     ]
    }
   ],
   "source": [
    "class HealthCheck:\n",
    "    _instance = None\n",
    "    def __new__(cls, *args, **kwargs):\n",
    "        if not HealthCheck._instance:\n",
    "            HealthCheck._instance = super(HealthCheck, \\\n",
    "                cls).__new__(cls, *args, **kwargs)\n",
    "        return HealthCheck._instance\n",
    "    def __init__(self):\n",
    "        self._servers = []\n",
    "    def addServer(self):\n",
    "        self._servers.append(\"Server 1\")\n",
    "        self._servers.append(\"Server 2\")\n",
    "        self._servers.append(\"Server 3\")\n",
    "        self._servers.append(\"Server 4\")\n",
    "    def changeServer(self):\n",
    "        self._servers.pop()\n",
    "        self._servers.append(\"Server 5\")\n",
    "\n",
    "hc1 = HealthCheck()\n",
    "hc2 = HealthCheck()\n",
    "\n",
    "hc1.addServer()\n",
    "print(\"Schedule health check for servers (1)..\")\n",
    "for i in range(4):\n",
    "    print(\"Checking \", hc1._servers[i])\n",
    "\n",
    "hc2.changeServer()\n",
    "print(\"Schedule health check for servers (2)..\")\n",
    "for i in range(4):\n",
    "    print(\"Checking \", hc2._servers[i])"
   ]
  }
 ],
 "metadata": {
  "kernelspec": {
   "display_name": "Python 3",
   "language": "python",
   "name": "python3"
  },
  "language_info": {
   "codemirror_mode": {
    "name": "ipython",
    "version": 3
   },
   "file_extension": ".py",
   "mimetype": "text/x-python",
   "name": "python",
   "nbconvert_exporter": "python",
   "pygments_lexer": "ipython3",
   "version": "3.6.7"
  }
 },
 "nbformat": 4,
 "nbformat_minor": 2
}
