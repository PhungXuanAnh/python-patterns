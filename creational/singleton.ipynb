{
 "cells": [
  {
   "cell_type": "markdown",
   "metadata": {},
   "source": [
    "# Mục đích\n",
    "\n",
    "- Đảm bảo chắc chắn là class chỉ có 1 đối tượng (instance) duy nhất, và cung cấp một điểm truy cập global đến đối tượng đó\n",
    "\n",
    "# Sử dụng\n",
    "\n",
    "- Khi mà app chỉ cần duy nhất một đối tượng.\n",
    "- Yêu cầu:\n",
    "    - Được khởi tạo lười (lazy initialization): phương pháp trì hoãn việc khởi tạo (hoặc nạp) dữ liệu cho đến khi chúng thực sự cần đến.\n",
    "    - Có thể truy cập global\n",
    "    \n",
    "# Implement\n",
    "\n",
    "## Cách 1: [tham khảo](https://sourcemaking.com/design_patterns/singleton/python/1), [Singletons and metaclasses](https://learning.oreilly.com/library/view/learning-python-design/9781785888038/ch02s05.html)\n",
    "\n",
    "Trước tiên phải hiểu `metaclass`, đó là class của class, nghĩa là class sẽ là 1 thực thể của `metaclass`\n",
    "\n",
    "`metaclass` cho phép ta tạo ra kiểu class của riêng mình, từ 1 class đã định nghĩa trước.\n",
    "\n",
    "Chi tiết đây này, trong Python mọi thứ đều là object, ví dụ nếu `a=5` thì `type(a)` trả về `<type 'int'>`. Nghĩa là a kiểu int. Tuy nhiên `type(int)` sẽ trả về `<type 'type'>`. Nó gợi ý về sự hiện diện của `metaclass`, vì int là một lớp kiểu `type`\n",
    "\n",
    "Định nghĩa của 1 class được quyết định bởi `metaclass`, vì vậy khi tạo 1 class, ví dụ `class A`, Python tạo nó bằng cách: `A = type(name, base, dict)`, trong đó:\n",
    "- name: tên của class\n",
    "- base: là base class\n",
    "- dict: là biến các thuộc tính \n",
    "\n",
    "Bây giờ, nếu một class có một `metaclass` được định nghĩa trước, ví dụ đặt tên là `MetaKls`, lúc này Python sẽ tạo class `A =  MetaKls(name, bases, dict)`\n",
    "\n",
    "Xem ví dụ sau về `metaclass`"
   ]
  },
  {
   "cell_type": "code",
   "execution_count": 4,
   "metadata": {},
   "outputs": [
    {
     "name": "stdout",
     "output_type": "stream",
     "text": [
      "***** Hello, here is My int *****\n",
      "Now, do whatever you want with these objects...\n",
      "This is MyInt object\n"
     ]
    }
   ],
   "source": [
    "class MyInt(type):\n",
    "    def __call__(cls, *args, **kwargs):\n",
    "        print(\"***** Hello, here is My int *****\")\n",
    "        print(\"Now, do whatever you want with these objects...\")\n",
    "        return type.__call__(cls, *args, **kwargs)\n",
    "    \n",
    "class int(metaclass=MyInt):\n",
    "    def __init__(self, x, y):\n",
    "        self.x = x\n",
    "        self.y = y\n",
    "        \n",
    "    def __str__(self):\n",
    "        return \"This is MyInt object\"\n",
    "        \n",
    "i = int(1,2)\n",
    "print(i)"
   ]
  },
  {
   "cell_type": "markdown",
   "metadata": {},
   "source": [
    "Method `__call__` được gọi khi một đội tượng được tạo từ một class đã tồn tại. Trong đoạn code trên, khi chúng ta tạo 1 thực thể của class int thì method `__call__` của `MetaKls` được gọi, chứng tỏ `metaclass` điểu khiển quá trình khởi tạo thực thể, điều này quá toẹt vời, hế hế...\n",
    "\n",
    "Chúng ta có thê sử dụng tính chất trên để tạo ra `Singleton` pattern\n",
    "\n",
    "**Chú ý:** để điều khiển quá trình khởi động của một class, `metaclass` sẽ ghi đè phương thức `__new__` và `__init__`\n",
    "\n",
    "Ta tạo một `metaclass` Singleton:"
   ]
  },
  {
   "cell_type": "code",
   "execution_count": 40,
   "metadata": {},
   "outputs": [],
   "source": [
    "class SingletonMetaClass(type):\n",
    "    \n",
    "    def __init__(cls, name, bases, attrs, **kwargs):\n",
    "        super().__init__(name, bases, attrs)\n",
    "        cls.__instance = None\n",
    "        print(\"__init__ of Singleton\")\n",
    "        \n",
    "    def __call__(cls, *args, **kwargs):\n",
    "        print(\"__call__ of Singleton\")\n",
    "        if cls.__instance is None:\n",
    "            cls.__instance = super().__call__(*args, **kwargs)\n",
    "        return cls.__instance"
   ]
  },
  {
   "cell_type": "markdown",
   "metadata": {},
   "source": [
    "Bây giờ tạo 1 Singleton class từ thực thể trên"
   ]
  },
  {
   "cell_type": "code",
   "execution_count": 41,
   "metadata": {},
   "outputs": [
    {
     "name": "stdout",
     "output_type": "stream",
     "text": [
      "__init__ of Singleton\n"
     ]
    }
   ],
   "source": [
    "class MySingleton(metaclass=SingletonMetaClass):\n",
    "    def __init__(self):\n",
    "        print(\"__init__ of MySingleton\")"
   ]
  },
  {
   "cell_type": "markdown",
   "metadata": {},
   "source": [
    "Bây giờ tạo thực thể từ class trên xem nó có là 1 không nhá"
   ]
  },
  {
   "cell_type": "code",
   "execution_count": 42,
   "metadata": {},
   "outputs": [
    {
     "name": "stdout",
     "output_type": "stream",
     "text": [
      "__call__ of Singleton\n",
      "__init__ of MySingleton\n",
      "<__main__.MySingleton object at 0x7fb1567e5ac8>\n",
      "----------------\n",
      "__call__ of Singleton\n",
      "<__main__.MySingleton object at 0x7fb1567e5ac8>\n"
     ]
    }
   ],
   "source": [
    "m1 = MySingleton()\n",
    "print(m1)\n",
    "print(\"----------------\")\n",
    "\n",
    "m2 = MySingleton()\n",
    "print(m2)\n"
   ]
  },
  {
   "cell_type": "markdown",
   "metadata": {},
   "source": [
    "Tèn tén, kết quả in ra và kiểm tra là giống nhau, vậy nó đảm bảo tính chất là luôn luôn chỉ có duy nhất 1 thực thể của class được tạo ra rồi nhá\n",
    "\n",
    "Còn `lazy initialization` thì sao nhỉ, trong Python có thể dùng `@property` theo link sau:\n",
    "\n",
    "[how-can-i-delay-the-init-call-until-an-attribute-is-accessed](https://stackoverflow.com/questions/45194553/how-can-i-delay-the-init-call-until-an-attribute-is-accessed)\n",
    "\n",
    "[lazy-properties](https://stevenloria.com/lazy-properties/)\n",
    "\n",
    "Ví dụ bên dưới, thuộc tính `_foo` chỉ được khởi tạo khi gọi nó, nếu không nó vẫn là `None`"
   ]
  },
  {
   "cell_type": "code",
   "execution_count": 45,
   "metadata": {},
   "outputs": [
    {
     "name": "stdout",
     "output_type": "stream",
     "text": [
      "__init__ of Singleton\n",
      "__call__ of Singleton\n",
      "__init__ of MySingleton1\n",
      "None\n",
      "lazy initialization\n",
      "[1, 2, 3]\n",
      "__call__ of Singleton\n",
      "[1, 2, 3]\n"
     ]
    }
   ],
   "source": [
    "class MySingleton1(metaclass=SingletonMetaClass):\n",
    "    def __init__(self):\n",
    "        print(\"__init__ of MySingleton1\")\n",
    "        self._foo = None\n",
    "\n",
    "    @property\n",
    "    def foo(self):\n",
    "        if not self._foo:\n",
    "            print(\"lazy initialization\")\n",
    "            self._foo =  [1,2,3]\n",
    "        return self._foo\n",
    "    \n",
    "ms1 = MySingleton1()\n",
    "print(ms1._foo)\n",
    "print(ms1.foo)\n",
    "\n",
    "ms2 = MySingleton1()\n",
    "print(ms2._foo)"
   ]
  },
  {
   "cell_type": "markdown",
   "metadata": {},
   "source": [
    "## Cách 2: [tham khảo](https://www.tutorialspoint.com/python_design_patterns/python_design_patterns_singleton.htm)\n",
    "\n",
    "Hoạt động của cách này:\n",
    "- dùng 1 biến private để lưu thực thể của class đó, \n",
    "- dùng 1 static method tạo thực thể, xong lưu vào biến pravite\n",
    "- thực thể chỉ có thể tạo bằng static method, hoặc tạo 1 lần duy nhất bằng cách gọi tên class, tạo lần 2 bằng tên class sẽ báo lỗi\n"
   ]
  },
  {
   "cell_type": "code",
   "execution_count": 3,
   "metadata": {},
   "outputs": [],
   "source": [
    "class Singleton2:\n",
    "    __instance = None\n",
    "    \n",
    "    @staticmethod\n",
    "    def get_instance():\n",
    "        if Singleton2.__instance is None:\n",
    "            Singleton2()\n",
    "        return Singleton2.__instance\n",
    "    \n",
    "    def __init__(self):\n",
    "        if Singleton2.__instance is not None:\n",
    "            raise Exception(\"This class is singleton!\")\n",
    "        else:\n",
    "            Singleton2.__instance = self"
   ]
  },
  {
   "cell_type": "markdown",
   "metadata": {},
   "source": [
    "Bây giờ, tạo thực thể của class trên để test nhá :D"
   ]
  },
  {
   "cell_type": "code",
   "execution_count": 4,
   "metadata": {},
   "outputs": [
    {
     "name": "stdout",
     "output_type": "stream",
     "text": [
      "<__main__.Singleton2 object at 0x7f308d758940>\n",
      "<__main__.Singleton2 object at 0x7f308d758940>\n",
      "<__main__.Singleton2 object at 0x7f308d758940>\n"
     ]
    }
   ],
   "source": [
    "s = Singleton2()\n",
    "print(s)\n",
    "s = Singleton2.get_instance()\n",
    "print(s)\n",
    "s = Singleton2.get_instance()\n",
    "print(s)"
   ]
  },
  {
   "cell_type": "markdown",
   "metadata": {},
   "source": [
    "Tèn tén, giống nhau rồi nhá, bây giờ tạo một thực thể mới từ tên class không qua static method xem thế nào nhá"
   ]
  },
  {
   "cell_type": "code",
   "execution_count": 5,
   "metadata": {},
   "outputs": [
    {
     "ename": "Exception",
     "evalue": "This class is singleton!",
     "output_type": "error",
     "traceback": [
      "\u001b[0;31m---------------------------------------------------------------------------\u001b[0m",
      "\u001b[0;31mException\u001b[0m                                 Traceback (most recent call last)",
      "\u001b[0;32m<ipython-input-5-e31d61de6e5b>\u001b[0m in \u001b[0;36m<module>\u001b[0;34m\u001b[0m\n\u001b[0;32m----> 1\u001b[0;31m \u001b[0ms\u001b[0m \u001b[0;34m=\u001b[0m \u001b[0mSingleton2\u001b[0m\u001b[0;34m(\u001b[0m\u001b[0;34m)\u001b[0m\u001b[0;34m\u001b[0m\u001b[0;34m\u001b[0m\u001b[0m\n\u001b[0m",
      "\u001b[0;32m<ipython-input-3-b5705b0416c3>\u001b[0m in \u001b[0;36m__init__\u001b[0;34m(self)\u001b[0m\n\u001b[1;32m     10\u001b[0m     \u001b[0;32mdef\u001b[0m \u001b[0m__init__\u001b[0m\u001b[0;34m(\u001b[0m\u001b[0mself\u001b[0m\u001b[0;34m)\u001b[0m\u001b[0;34m:\u001b[0m\u001b[0;34m\u001b[0m\u001b[0;34m\u001b[0m\u001b[0m\n\u001b[1;32m     11\u001b[0m         \u001b[0;32mif\u001b[0m \u001b[0mSingleton2\u001b[0m\u001b[0;34m.\u001b[0m\u001b[0m__instance\u001b[0m \u001b[0;32mis\u001b[0m \u001b[0;32mnot\u001b[0m \u001b[0;32mNone\u001b[0m\u001b[0;34m:\u001b[0m\u001b[0;34m\u001b[0m\u001b[0;34m\u001b[0m\u001b[0m\n\u001b[0;32m---> 12\u001b[0;31m             \u001b[0;32mraise\u001b[0m \u001b[0mException\u001b[0m\u001b[0;34m(\u001b[0m\u001b[0;34m\"This class is singleton!\"\u001b[0m\u001b[0;34m)\u001b[0m\u001b[0;34m\u001b[0m\u001b[0;34m\u001b[0m\u001b[0m\n\u001b[0m\u001b[1;32m     13\u001b[0m         \u001b[0;32melse\u001b[0m\u001b[0;34m:\u001b[0m\u001b[0;34m\u001b[0m\u001b[0;34m\u001b[0m\u001b[0m\n\u001b[1;32m     14\u001b[0m             \u001b[0mSingleton2\u001b[0m\u001b[0;34m.\u001b[0m\u001b[0m__instance\u001b[0m \u001b[0;34m=\u001b[0m \u001b[0mself\u001b[0m\u001b[0;34m\u001b[0m\u001b[0;34m\u001b[0m\u001b[0m\n",
      "\u001b[0;31mException\u001b[0m: This class is singleton!"
     ]
    }
   ],
   "source": [
    "s = Singleton2()"
   ]
  },
  {
   "cell_type": "markdown",
   "metadata": {},
   "source": [
    "Há há, lỗi rồi...vậy là đạt yêu cầu\n",
    "\n",
    "Tham khảo phần **Lazy initialization** ở cách 1\n",
    "\n",
    "\n",
    "## Cách 3: [tham khảo branch forked](https://github.com/PhungXuanAnh/python-patterns/blob/master/patterns/creational/borg.py)\n",
    "\n",
    "Cách này sử dụng một tính chất của Python, đó là các thuộc tính của 1 thực thể thì được lưu trong 1 dictionary tên là `__dict__`. Vậy là bây giờ đơn giản là làm cho tất cả các thực thể có cùng `__dict__`, tức là cùng thuộc tính thì sẽ đáp ứng yêu cầu có duy nhất 1 thực thể được tạo ra, phải không nhể \n",
    "\n",
    "Trong cách này:\n",
    "- Biến `__shared_state` sẽ dùng để lưu thuộc tính share giữa các thực thể\n",
    "- Khi tạo thực thể mới thì gán `__shared_state` cho `__dict__`\n",
    "\n",
    "\n",
    "# Áp dụng trong tình huống thực tế\n",
    "\n",
    "https://learning.oreilly.com/library/view/learning-python-design/9781785888038/ch02s06.html\n",
    "\n",
    "https://learning.oreilly.com/library/view/learning-python-design/9781785888038/ch02s07.html\n"
   ]
  }
 ],
 "metadata": {
  "kernelspec": {
   "display_name": "Python 3",
   "language": "python",
   "name": "python3"
  },
  "language_info": {
   "codemirror_mode": {
    "name": "ipython",
    "version": 3
   },
   "file_extension": ".py",
   "mimetype": "text/x-python",
   "name": "python",
   "nbconvert_exporter": "python",
   "pygments_lexer": "ipython3",
   "version": "3.6.7"
  }
 },
 "nbformat": 4,
 "nbformat_minor": 2
}
