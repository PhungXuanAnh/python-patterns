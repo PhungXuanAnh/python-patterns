{
 "cells": [
  {
   "cell_type": "markdown",
   "metadata": {},
   "source": [
    "\n",
    "# 4 tính chất của lập trình hướng đối tượng\n",
    "----------------------------------------------------------------------------------\n",
    "\n",
    "## **Tính đóng gói (encapsulation)** và che giấu thông tin (information hiding)\n",
    "\n",
    "- Tức là trạng thái của đối tượng được bảo vệ không cho các truy cập từ code bên ngoài như thay đổi trong thái hay nhìn trực tiếp. Việc cho phép môi trường bên ngoài tác động lên các dữ liệu nội tại của một đối tượng theo cách nào là hoàn toàn tùy thuộc vào người viết mã. Đây là tính chất đảm bảo sự toàn vẹn, bảo mật của đối tượng\n",
    "- Trong Java, tính đóng gói được thể hiện thông qua phạm vi truy cập (access modifier). Ngoài ra, các lớp liên quan đến nhau có thể được gom chung lại thành package. \n",
    "- Trong python, ta không sử dụng access modifier, vì châm ngôn của python là \"Explicit is better than implicit\" hay \"Simple is better than complex\" hoặc \"We're all consenting adults here\", tuy nhiên, ta có thể sử dụng dấu _ để xác định (quy ước) phạm vi truy cập của 1 thuộc tính, ví dụ `name` là public, `_name` là protected, `__name` là private\n",
    "  \n",
    "## **Tính kế thừa (inheritance)**\n",
    "\n",
    "Tính kế thừa là khả năng cho phép ta xây dựng một lớp mới dựa trên các định nghĩa của một lớp đã có. Lớp đã có gọi là lớp Cha, lớp mới phát sinh gọi là lớp Con và đương nhiên kế thừa tất cả các thành phần của lớp Cha, có thể chia sẻ hay mở rộng các đặc tính sẵn có mà không phải tiến hành định nghĩa lại.\n",
    "\n",
    "## **Tính đa hình (polymorphism)**\n",
    "\n",
    "- Khi một tác vụ được thực hiện theo nhiều cách khác nhau được gọi là **tính đa hình**.\n",
    "- Đối với tính chất này, nó được thể hiện rõ nhất qua việc gọi phương thức của đối tượng. Các phương thức hoàn toàn có thể giống nhau, nhưng việc xử lý luồng có thể khác nhau.\n",
    "- Tính đa hình (Polymorphism) trong Java được hiểu là trong từng trường hợp, hoàn cảnh khác nhau thì đối tượng có hình thái khác nhau tùy thuộc vào từng ngữ cảnh. Đối tượng có tính đa hình được xem như một đối tượng đặc biệt vì có lúc đối tượng này trở thành một đối tượng khác và cũng có lúc đối tượng này trở thành một đối tượng khác nữa (tùy vào từng hoàn cảnh). Sự \"nhập vai\" vào các đối tượng khác nhau này giúp cho đối tượng đa hình ban đầu có thể thực hiện những hành động khác nhau của từng đối tượng cụ thể.\n",
    "\n",
    "**Ví dụ**: Khi bạn ở trong trường học là sinh viên thì bạn có nhiệm vụ học, nghe giảng,..., nhưng khi bạn ở nhà thì bạn lại đóng vai trò là thành viên trong gia đình và bạn có nhiệm vụ phải làm việc nhà, rồi khi bạn vào siêu thị thì bạn đóng vai trò là khách hàng đi mua hàng. Vì vậy, chúng ta có thể hiểu đa hình của đối tượng là trong từng trường hợp, hoàn cảnh khác nhau thì đối tượng có khả năng thực hiện các công việc khác nhau.\n",
    "\n",
    "- Trong Java, chúng ta sử dụng nạp chồng phương thức (method overloading) và ghi đè phương thức (method overriding) để có tính đa hình.\n",
    "  \n",
    "    - **Nạp chồng (Overloading)**: Đây là khả năng cho phép một lớp có nhiều thuộc tính, phương thức cùng tên nhưng với các tham số khác nhau về loại cũng như về số lượng. Khi được gọi, dựa vào tham số truyền vào, phương thức tương ứng sẽ được thực hiện.\n",
    "    - **Ghi đè (Overriding)**: là hai phương thức cùng tên, cùng tham số, cùng kiểu trả về nhưng thằng con viết lại và dùng theo cách của nó, và xuất hiện ở lớp cha và tiếp tục xuất hiện ở lớp con. Khi dùng override, lúc thực thi, nếu lớp Con không có phương thức riêng, phương thức của lớp Cha sẽ được gọi, ngược lại nếu có, phương thức của lớp Con được gọi.\n",
    "    \n",
    "- Trong Python, không có nạp chồng, thay vào đó ta có thể sử dụng default value, ví dụ: `def func(x, y=None)`\n",
    "  \n",
    "## **Tính trừu tượng (abstraction)**\n",
    "\n",
    "- Tính trừu tượng là một tiến trình ẩn các chi tiết trình triển khai và chỉ hiển thị tính năng tới người dùng. Tính trừu tượng cho phép bạn loại bỏ tính chất phức tạp của đối tượng bằng cách chỉ đưa ra các thuộc tính và phương thức cần thiết của đối tượng trong lập trình.\n",
    "- Tính trừu tượng giúp bạn tập trung vào những cốt lõi cần thiết của đối tượng thay vì quan tâm đến cách nó thực hiện.\n",
    "- Trong Java, chúng là sử dụng `abstract class` và `abstract interface` để có tính trừu tượng.\n",
    "- Trong Python, không có (và cũng không cần thiết) `interface`, vì ta có thể sử dụng đa kế thừa trong\n",
    "- Phân biệt `interface` và `abstract class`, [tham khảo](https://phungxuananh.github.io/programing/interface_vs_abstract_class/)\n",
    "\n",
    "\n",
    "# Ví dụ minh họa\n",
    "Ví dụ dưới tôi làm với ngôn ngữ Python\n",
    "\n",
    "- Tạo abstract class *Animal* có phương thức *say_hello*, abstract class này thể hiện **tính trừu tượng**, có nghĩa ta định ra rằng dù là con vật gì đi nữa thì nó cũng có phương thức *say_hello*."
   ]
  },
  {
   "cell_type": "code",
   "execution_count": 2,
   "metadata": {},
   "outputs": [],
   "source": [
    "class Animal(object):\n",
    "    __name = None\n",
    "\n",
    "    def __init__(self, name):\n",
    "        self.__name = name\n",
    "\n",
    "    def say_hello(self):\n",
    "        raise NotImplementedError()\n",
    "\n",
    "    def get_name(self):\n",
    "        return self.__name"
   ]
  },
  {
   "cell_type": "markdown",
   "metadata": {},
   "source": [
    "- Tạo 2 lớp *Cat* và *Dog* kế thừa từ *Animal*. Khi khởi tạo chúng sẽ có tên. Chúng **override** lại phương thức say_*hello* để chào hỏi theo cách riêng của chúng. Điều này thể hiện **tính đóng gói** (đóng gói biến tên và phương thức *say_hello* với nhau) và **tính thừa kế ** ( *Cat* và *Dog* mang đặc điểm chung là có *say_hello* từ *Animal*)."
   ]
  },
  {
   "cell_type": "code",
   "execution_count": 6,
   "metadata": {},
   "outputs": [],
   "source": [
    "class Cat(Animal):\n",
    "\n",
    "    def __init__(self, name):\n",
    "        super(Cat, self).__init__(name)\n",
    "\n",
    "    def say_hello(self):\n",
    "        print('Hi, I am {}'.format(self.get_name()))\n",
    "        \n",
    "\n",
    "class Dog(Animal):\n",
    "\n",
    "    def __init__(self, name):\n",
    "        super(Dog, self).__init__(name)\n",
    "\n",
    "    def say_hello(self):\n",
    "        print('Hello, My name is {}'.format(self.get_name()))"
   ]
  },
  {
   "cell_type": "markdown",
   "metadata": {},
   "source": [
    "- Tạo lớp *Zoo* để quản lí nhiều *Animal*, có (1) phương thức *add*, *remove* để thêm, bớt các *Animal* (các đối tượng của các lớp thừa kế từ *Animal*), (2) phương thức *show_list_animal* để gọi *say_hello* của tất cả đối tượng nó quản lí. Điều này thể hiện **tính đa hình**, Zoo gọi chỉ gọi một phương thức **say_hello**, nhưng tùy con vật mà lời chào hỏi sẽ khác nhau."
   ]
  },
  {
   "cell_type": "code",
   "execution_count": 8,
   "metadata": {},
   "outputs": [],
   "source": [
    "class Zoo(object):\n",
    "\n",
    "    __animals = []\n",
    "\n",
    "    def add(self, animal):\n",
    "        self.__animals.append(animal)\n",
    "\n",
    "    def remove(self, animal):\n",
    "        self.__animals.remove(animal)\n",
    "\n",
    "    def show_list_animal(self):\n",
    "        for animal in self.__animals:\n",
    "            animal.say_hello()"
   ]
  },
  {
   "cell_type": "markdown",
   "metadata": {},
   "source": [
    "Giờ chạy test xem như thế nào nhá"
   ]
  },
  {
   "cell_type": "code",
   "execution_count": 9,
   "metadata": {},
   "outputs": [
    {
     "name": "stdout",
     "output_type": "stream",
     "text": [
      "Hi, I am Tom\n",
      "Hello, My name is Milu\n"
     ]
    }
   ],
   "source": [
    "cat = Cat('Tom')\n",
    "dog = Dog('Milu')\n",
    "\n",
    "zoo = Zoo()\n",
    "zoo.add(cat)\n",
    "zoo.add(dog)\n",
    "zoo.show_list_animal()"
   ]
  },
  {
   "cell_type": "markdown",
   "metadata": {},
   "source": [
    "OK, đã xong một ví dụ điển hình cho 4 tính chất của hướng đối tượng.\n",
    "\n",
    "## Tham khảo\n",
    "\n",
    "[https://gpcoder.com/2232-4-tinh-chat-cua-lap-trinh-huong-doi-tuong-trong-java/](https://gpcoder.com/2232-4-tinh-chat-cua-lap-trinh-huong-doi-tuong-trong-java/)\n"
   ]
  }
 ],
 "metadata": {
  "kernelspec": {
   "display_name": "Python 3",
   "language": "python",
   "name": "python3"
  },
  "language_info": {
   "codemirror_mode": {
    "name": "ipython",
    "version": 3
   },
   "file_extension": ".py",
   "mimetype": "text/x-python",
   "name": "python",
   "nbconvert_exporter": "python",
   "pygments_lexer": "ipython3",
   "version": "3.6.7"
  }
 },
 "nbformat": 4,
 "nbformat_minor": 2
}
